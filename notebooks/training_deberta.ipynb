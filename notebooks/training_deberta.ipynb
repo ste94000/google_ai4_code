{
 "cells": [
  {
   "cell_type": "markdown",
   "metadata": {},
   "source": [
    "# DEBERTA TRAINING &#x1F680;"
   ]
  },
  {
   "cell_type": "code",
   "execution_count": 10,
   "metadata": {},
   "outputs": [],
   "source": [
    "import numpy as np\n",
    "import pandas as pd\n",
    "import tensorflow as tf\n",
    "import transformers\n",
    "from sklearn.model_selection import GroupKFold\n",
    "from sklearn.utils import shuffle\n",
    "from tqdm.notebook import tqdm"
   ]
  },
  {
   "cell_type": "code",
   "execution_count": null,
   "metadata": {},
   "outputs": [],
   "source": [
    "RANDOM_STATE = 42\n",
    "MD_MAX_LEN = 64\n",
    "TOTAL_MAX_LEN = 512\n",
    "K_FOLDS = 5\n",
    "FILES_PER_FOLD = 16\n",
    "LIMIT = 1_000 if os.environ[\"KAGGLE_KERNEL_RUN_TYPE\"] == \"Interactive\" else None\n",
    "MODEL_NAME = \"microsoft/codebert-base\"\n",
    "TOKENIZER = transformers.AutoTokenizer.from_pretrained(MODEL_NAME)\n",
    "INPUT_PATH = \"../input/AI4Code\""
   ]
  },
  {
   "cell_type": "code",
   "execution_count": null,
   "metadata": {},
   "outputs": [],
   "source": []
  }
 ],
 "metadata": {
  "kernelspec": {
   "display_name": "google_ai4_code",
   "language": "python",
   "name": "python3"
  },
  "language_info": {
   "codemirror_mode": {
    "name": "ipython",
    "version": 3
   },
   "file_extension": ".py",
   "mimetype": "text/x-python",
   "name": "python",
   "nbconvert_exporter": "python",
   "pygments_lexer": "ipython3",
   "version": "3.10.6"
  }
 },
 "nbformat": 4,
 "nbformat_minor": 2
}
